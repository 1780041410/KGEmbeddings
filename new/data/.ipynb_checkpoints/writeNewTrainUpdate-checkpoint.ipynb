{
 "cells": [
  {
   "cell_type": "code",
   "execution_count": 2,
   "metadata": {
    "collapsed": true
   },
   "outputs": [],
   "source": [
    "import os\n",
    "import sys\n",
    "import numpy as np"
   ]
  },
  {
   "cell_type": "code",
   "execution_count": 3,
   "metadata": {
    "collapsed": true
   },
   "outputs": [],
   "source": [
    "class Read(object):\n",
    "    def __init__(self,newPos,update,newupdate,train):\n",
    "        self.newPos = newPos\n",
    "        self.update = update\n",
    "        self.newupdate = newupdate\n",
    "        self.train = train\n",
    "    \n",
    "    def readfile(self):\n",
    "        filepos = open(self.newPos,'r')\n",
    "        newTriple = []\n",
    "        for item in filepos:\n",
    "            item = item.strip().split('\\t')\n",
    "            newTriple.append(item)\n",
    "        filepos.close()\n",
    "        \n",
    "        file = open(self.update,'r')\n",
    "        NegTriple = []\n",
    "        for item in file:\n",
    "            item = item.strip().split('\\t')\n",
    "            if(item[3] == '-1'):\n",
    "                NegTriple.append(item)\n",
    "        file.close()\n",
    "        \n",
    "        file = open(self.train,'r')\n",
    "        trainTriple = []\n",
    "        for item in file:\n",
    "            item = item.strip().split('\\t')\n",
    "            if item  not in newTriple:\n",
    "                trainTriple.append(item)\n",
    "        file.close()\n",
    "        \n",
    "        self.newTriple = newTriple\n",
    "        self.NegTriple = NegTriple\n",
    "        self.trainTriple = trainTriple\n",
    "        \n",
    "        #return newTriple,NegTriple,trainTriple\n",
    "    \n",
    "    def write(self,newTrain):\n",
    "        self.newTrain = newTrain\n",
    "        \n",
    "        file = open(self.newupdate,'w')\n",
    "        for item in self.newTriple:\n",
    "            file.write(item[0]+'\\t'+item[1]+'\\t'+item[2]+'\\t'+item[3]+'\\n')\n",
    "        for item in self.NegTriple:\n",
    "            file.write(item[0]+'\\t'+item[1]+'\\t'+item[2]+'\\t'+item[3]+'\\n')\n",
    "        \n",
    "        file.close()\n",
    "        \n",
    "        file = open(self.newTrain,'w')\n",
    "        for item in self.trainTriple:\n",
    "            file.write(item[0]+'\\t'+item[1]+'\\t'+item[2]+'\\t'+item[3]+'\\n')\n",
    "        file.close()\n",
    "            \n",
    "        \n",
    "        \n",
    "            "
   ]
  },
  {
   "cell_type": "code",
   "execution_count": null,
   "metadata": {
    "collapsed": true
   },
   "outputs": [],
   "source": [
    "def init():\n",
    "    path11 = './WN11'\n",
    "    path13 = './FB13'\n",
    "    newPos = 'newPos.txt'\n",
    "    train = 'train.txt'\n",
    "    update = 'update.txt'\n",
    "    newupdate = 'newupdate.txt'\n",
    "    newtrain = 'newtrain.txt'\n",
    "    \n",
    "    \n",
    "    WN11 = Read(path11+newPos,path11+update,path11+newupdate,path11+train)\n",
    "    WN11.read()\n",
    "    WN11.write(path11+newtrain)\n",
    "    \n",
    "    FB13 = Read(path13+newPos,path13+update,path13+newupdate,path13+train\n",
    "    FB13.read()\n",
    "    FB13.write(path13+newtrain)\n",
    "    \n",
    "    "
   ]
  }
 ],
 "metadata": {
  "anaconda-cloud": {},
  "kernelspec": {
   "display_name": "Python [conda env:python3]",
   "language": "python",
   "name": "conda-env-python3-py"
  },
  "language_info": {
   "codemirror_mode": {
    "name": "ipython",
    "version": 3
   },
   "file_extension": ".py",
   "mimetype": "text/x-python",
   "name": "python",
   "nbconvert_exporter": "python",
   "pygments_lexer": "ipython3",
   "version": "3.5.4"
  }
 },
 "nbformat": 4,
 "nbformat_minor": 1
}
