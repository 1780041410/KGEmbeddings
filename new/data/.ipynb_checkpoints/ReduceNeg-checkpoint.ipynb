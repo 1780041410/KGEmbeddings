{
 "cells": [
  {
   "cell_type": "code",
   "execution_count": 1,
   "metadata": {
    "collapsed": true
   },
   "outputs": [],
   "source": [
    "import os\n",
    "import numpy as np\n",
    "import sys"
   ]
  },
  {
   "cell_type": "code",
   "execution_count": 2,
   "metadata": {
    "collapsed": false
   },
   "outputs": [],
   "source": [
    "class HandleFile(object):\n",
    "    def __init__(self,filename,Newfilename):\n",
    "        self.file = filename\n",
    "        self.Newfile = Newfilename\n",
    "    def Read(self):\n",
    "        file = open(self.file,'r')\n",
    "        PosTriple = []\n",
    "        NegTriple = []\n",
    "        for item in file:\n",
    "            item = item.strip().split('\\t')\n",
    "            if(item[3] == '1'):\n",
    "                PosTriple.append(item)\n",
    "            else:\n",
    "                NegTriple.append(item)\n",
    "                \n",
    "        file.close()\n",
    "        \n",
    "        return  PosTriple,NegTriple\n",
    "    \n",
    "    def ReduceNeg(self,NegTriple):\n",
    "        num = len(NegTriple)\n",
    "        self.neg = NegTriple\n",
    "        NewTriple = list()\n",
    "        for i in range(int(num/2)):\n",
    "            item = np.random.randint(num)\n",
    "            if NegTriple[item] not in NewTriple:\n",
    "                NewTriple.append(NegTriple[item])\n",
    "        \n",
    "        return NewTriple\n",
    "    \n",
    "    def WriteFile(self,PosTriple,NewTriple):\n",
    "        file = open(self.Newfile,'w')\n",
    "        self.pos = PosTriple\n",
    "        self.Newneg = NewTriple\n",
    "        for item in PosTriple:\n",
    "            file.write(item[0]+'\\t'+item[1]+'\\t'+item[2]+'\\t'+item[3]+'\\n')\n",
    "        \n",
    "        for item in NewTriple:\n",
    "            file.write(item[0]+'\\t'+item[1]+'\\t'+item[2]+'\\t'+item[3]+'\\n')\n",
    "    \n",
    "        file.close()\n",
    "        \n",
    "    def WriteLog(self,logfile):\n",
    "        file = open(logfile,'a')\n",
    "        file.write(self.file+'\\t'+'PosTriples'+'\\t'+ str(len(self.pos))+'NegTriple'+'\\t'+str(len(self.neg))+'\\n')\n",
    "        file.write(self.Newfile+'\\t'+'PosTriples'+'\\t'+ str(len(self.pos))+'NegTriple'+'\\t'+str(len(self.Newneg))+'\\n')\n",
    "        \n",
    "        \n",
    "        "
   ]
  },
  {
   "cell_type": "code",
   "execution_count": 3,
   "metadata": {
    "collapsed": false
   },
   "outputs": [],
   "source": [
    "def init():\n",
    "    filename = str(sys.argv[1])\n",
    "    Newfilename = str(sys.argv[2])\n",
    "    logfile = 'Reducelog.txt'\n",
    "    \n",
    "    WN18 = HandleFile(str('./WN18/'+filename),str('./WN18/'+Newfilename))\n",
    "   \n",
    "    wn18PosTriple,wn18NegTriple = WN18.Read()\n",
    "    wn18NewTriple = WN18.ReduceNeg(wn18NegTriple)\n",
    "    WN18.WriteFile(wn18PosTriple,wn18NewTriple)\n",
    "    WN18.WriteLog('./WN18/'+logfile)\n",
    "    \n",
    "    WN11 = HandleFile('./WN11/'+filename,'./WN11/'+Newfilename)\n",
    "    wn11PosTriple,wn11NegTriple = WN11.Read()\n",
    "    wn11NewTriple = WN11.ReduceNeg(wn11NegTriple)\n",
    "    WN11.WriteFile(wn11PosTriple,wn11NewTriple)\n",
    "    WN11.WriteLog('./WN11/'+logfile)\n",
    "    \n",
    "    \n",
    "    FB13 = HandleFile('./FB13/'+filename,'./FB13/'+Newfilename)\n",
    "    fb13PosTriple,fb13NegTriple = FB13.Read()\n",
    "    fb13NewTriple = FB13.ReduceNeg(fb13NegTriple)\n",
    "    FB13.WriteFile(fb13PosTriple,fb13NewTriple)\n",
    "    FB13.WriteLog('./FB13/'+logfile)\n",
    "    \n",
    "    FB15k = HandleFile('./FB15k/'+filename,'./FB15k/'+Newfilename,)\n",
    "    fb15kPosTriple,fb15kNegTriple = FB15k.Read()\n",
    "    fb15kNewTriple = FB15k.ReduceNeg(fb15kNegTriple)\n",
    "    FB15k.WriteFile(fb15kPosTriple,fb15kNewTriple)\n",
    "    FB15k.WriteLog('./FB15k/'+logfile)"
   ]
  },
  {
   "cell_type": "code",
   "execution_count": 4,
   "metadata": {
    "collapsed": false
   },
   "outputs": [
    {
     "ename": "FileNotFoundError",
     "evalue": "[Errno 2] No such file or directory: './WN11/update.txt'",
     "output_type": "error",
     "traceback": [
      "\u001b[0;31m---------------------------------------------------------------------------\u001b[0m",
      "\u001b[0;31mFileNotFoundError\u001b[0m                         Traceback (most recent call last)",
      "\u001b[0;32m<ipython-input-4-46463cd76ac1>\u001b[0m in \u001b[0;36m<module>\u001b[0;34m()\u001b[0m\n\u001b[1;32m      1\u001b[0m \u001b[0;32mif\u001b[0m \u001b[0m__name__\u001b[0m \u001b[0;34m==\u001b[0m \u001b[0;34m\"__main__\"\u001b[0m\u001b[0;34m:\u001b[0m\u001b[0;34m\u001b[0m\u001b[0m\n\u001b[1;32m      2\u001b[0m \u001b[0;34m\u001b[0m\u001b[0m\n\u001b[0;32m----> 3\u001b[0;31m     \u001b[0minit\u001b[0m\u001b[0;34m(\u001b[0m\u001b[0;34m)\u001b[0m\u001b[0;34m\u001b[0m\u001b[0m\n\u001b[0m",
      "\u001b[0;32m<ipython-input-3-ddd2a018de11>\u001b[0m in \u001b[0;36minit\u001b[0;34m()\u001b[0m\n\u001b[1;32m     12\u001b[0m \u001b[0;34m\u001b[0m\u001b[0m\n\u001b[1;32m     13\u001b[0m     \u001b[0mWN11\u001b[0m \u001b[0;34m=\u001b[0m \u001b[0mHandleFile\u001b[0m\u001b[0;34m(\u001b[0m\u001b[0;34m'./WN11/'\u001b[0m\u001b[0;34m+\u001b[0m\u001b[0mfilename\u001b[0m\u001b[0;34m,\u001b[0m\u001b[0;34m'./WN11/'\u001b[0m\u001b[0;34m+\u001b[0m\u001b[0mNewfilename\u001b[0m\u001b[0;34m)\u001b[0m\u001b[0;34m\u001b[0m\u001b[0m\n\u001b[0;32m---> 14\u001b[0;31m     \u001b[0mwn11PosTriple\u001b[0m\u001b[0;34m,\u001b[0m\u001b[0mwn11NegTriple\u001b[0m \u001b[0;34m=\u001b[0m \u001b[0mWN11\u001b[0m\u001b[0;34m.\u001b[0m\u001b[0mRead\u001b[0m\u001b[0;34m(\u001b[0m\u001b[0;34m)\u001b[0m\u001b[0;34m\u001b[0m\u001b[0m\n\u001b[0m\u001b[1;32m     15\u001b[0m     \u001b[0mwn11NewTriple\u001b[0m \u001b[0;34m=\u001b[0m \u001b[0mWN11\u001b[0m\u001b[0;34m.\u001b[0m\u001b[0mReduceNeg\u001b[0m\u001b[0;34m(\u001b[0m\u001b[0mwn11NegTriple\u001b[0m\u001b[0;34m)\u001b[0m\u001b[0;34m\u001b[0m\u001b[0m\n\u001b[1;32m     16\u001b[0m     \u001b[0mWN11\u001b[0m\u001b[0;34m.\u001b[0m\u001b[0mWriteFile\u001b[0m\u001b[0;34m(\u001b[0m\u001b[0mwn11PosTriple\u001b[0m\u001b[0;34m,\u001b[0m\u001b[0mwn11NewTriple\u001b[0m\u001b[0;34m)\u001b[0m\u001b[0;34m\u001b[0m\u001b[0m\n",
      "\u001b[0;32m<ipython-input-2-e5436454f596>\u001b[0m in \u001b[0;36mRead\u001b[0;34m(self)\u001b[0m\n\u001b[1;32m      4\u001b[0m         \u001b[0mself\u001b[0m\u001b[0;34m.\u001b[0m\u001b[0mNewfile\u001b[0m \u001b[0;34m=\u001b[0m \u001b[0mNewfilename\u001b[0m\u001b[0;34m\u001b[0m\u001b[0m\n\u001b[1;32m      5\u001b[0m     \u001b[0;32mdef\u001b[0m \u001b[0mRead\u001b[0m\u001b[0;34m(\u001b[0m\u001b[0mself\u001b[0m\u001b[0;34m)\u001b[0m\u001b[0;34m:\u001b[0m\u001b[0;34m\u001b[0m\u001b[0m\n\u001b[0;32m----> 6\u001b[0;31m         \u001b[0mfile\u001b[0m \u001b[0;34m=\u001b[0m \u001b[0mopen\u001b[0m\u001b[0;34m(\u001b[0m\u001b[0mself\u001b[0m\u001b[0;34m.\u001b[0m\u001b[0mfile\u001b[0m\u001b[0;34m,\u001b[0m\u001b[0;34m'r'\u001b[0m\u001b[0;34m)\u001b[0m\u001b[0;34m\u001b[0m\u001b[0m\n\u001b[0m\u001b[1;32m      7\u001b[0m         \u001b[0mPosTriple\u001b[0m \u001b[0;34m=\u001b[0m \u001b[0;34m[\u001b[0m\u001b[0;34m]\u001b[0m\u001b[0;34m\u001b[0m\u001b[0m\n\u001b[1;32m      8\u001b[0m         \u001b[0mNegTriple\u001b[0m \u001b[0;34m=\u001b[0m \u001b[0;34m[\u001b[0m\u001b[0;34m]\u001b[0m\u001b[0;34m\u001b[0m\u001b[0m\n",
      "\u001b[0;31mFileNotFoundError\u001b[0m: [Errno 2] No such file or directory: './WN11/update.txt'"
     ]
    }
   ],
   "source": [
    "if __name__ == \"__main__\":\n",
    "    \n",
    "    init()\n"
   ]
  },
  {
   "cell_type": "code",
   "execution_count": null,
   "metadata": {
    "collapsed": false
   },
   "outputs": [],
   "source": []
  },
  {
   "cell_type": "code",
   "execution_count": null,
   "metadata": {
    "collapsed": false
   },
   "outputs": [],
   "source": []
  },
  {
   "cell_type": "code",
   "execution_count": null,
   "metadata": {
    "collapsed": true
   },
   "outputs": [],
   "source": []
  }
 ],
 "metadata": {
  "anaconda-cloud": {},
  "kernelspec": {
   "display_name": "Python [conda env:python3]",
   "language": "python",
   "name": "conda-env-python3-py"
  },
  "language_info": {
   "codemirror_mode": {
    "name": "ipython",
    "version": 3
   },
   "file_extension": ".py",
   "mimetype": "text/x-python",
   "name": "python",
   "nbconvert_exporter": "python",
   "pygments_lexer": "ipython3",
   "version": "3.5.4"
  }
 },
 "nbformat": 4,
 "nbformat_minor": 1
}
