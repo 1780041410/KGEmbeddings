{
 "cells": [
  {
   "cell_type": "code",
   "execution_count": 1,
   "metadata": {
    "collapsed": true
   },
   "outputs": [],
   "source": [
    "import os\n",
    "import numpy as np\n",
    "import sys"
   ]
  },
  {
   "cell_type": "code",
   "execution_count": 36,
   "metadata": {
    "collapsed": true
   },
   "outputs": [],
   "source": [
    "class HandleFile(object):\n",
    "    def __init__(self,filename,Newfilename):\n",
    "        self.file = filename\n",
    "        self.Newfile = Newfilename\n",
    "    def Read(self):\n",
    "        file = open(self.file,'r')\n",
    "        PosTriple = []\n",
    "        NegTriple = []\n",
    "        for item in file:\n",
    "            item = item.strip().split('\\t')\n",
    "            if(item[3] == '1'):\n",
    "                PosTriple.append(item)\n",
    "            else:\n",
    "                NegTriple.append(item)\n",
    "                \n",
    "        file.close()\n",
    "        print(len(PosTriple))\n",
    "        \n",
    "        return  PosTriple,NegTriple\n",
    "    \n",
    "    def ReduceUpdate(self,PosTriple,NegTriple,num):\n",
    "        self.neg = NegTriple\n",
    "        self.pos = PosTriple\n",
    "        NewTriple = []\n",
    "        NegSize = len(NegTriple)\n",
    "        PosSize = len(PosTriple)\n",
    "        \n",
    "        negnum = int(num * 0.1)\n",
    "        posnum = int(num * 0.9)\n",
    "        \n",
    "        print(negnum)\n",
    "        print(posnum)\n",
    "        for i in range(posnum):\n",
    "            item = np.random.randint(PosSize)\n",
    "            if PosTriple[item] not in NewTriple:\n",
    "                NewTriple.append(PosTriple[item])\n",
    "        \n",
    "        for i in range(negnum):\n",
    "            item = np.random.randint(NegSize)\n",
    "            if NegTriple[item] not in NewTriple:\n",
    "                NewTriple.append(NegTriple[item])\n",
    "        \n",
    "        return NewTriple\n",
    "        \n",
    "        \n",
    "    \n",
    "    def WriteFile(self,NewTriple):\n",
    "        file = open(self.Newfile,'w')\n",
    "        \n",
    "        for item in NewTriple:\n",
    "            file.write(item[0]+'\\t'+item[1]+'\\t'+item[2]+'\\t'+item[3]+'\\n')\n",
    "    \n",
    "        file.close()"
   ]
  },
  {
   "cell_type": "code",
   "execution_count": 41,
   "metadata": {
    "collapsed": true
   },
   "outputs": [],
   "source": [
    "def init():\n",
    "    #filename = str(sys.argv[1])\n",
    "    #Newfilename = str(sys.argv[2])\n",
    "    #num = str(sys.argv[3])\n",
    "    #num = int(num)\n",
    "    filename = 'update.txt'\n",
    "    Newfilename = 'update100.txt'\n",
    "    num = 100\n",
    "    WN18 = HandleFile(str('./WN18/'+filename),str('./WN18/'+Newfilename))\n",
    "   \n",
    "    wn18PosTriple,wn18NegTriple = WN18.Read()\n",
    "    wn18NewTriple = WN18.ReduceUpdate(wn18PosTriple,wn18NegTriple,num)\n",
    "    WN18.WriteFile(wn18NewTriple)\n",
    "\n",
    "    WN11 = HandleFile('./WN11/'+filename,'./WN11/'+Newfilename)\n",
    "    wn11PosTriple,wn11NegTriple = WN11.Read()\n",
    "    wn11NewTriple = WN11.ReduceUpdate(wn11PosTriple,wn11NegTriple,num)\n",
    "    WN11.WriteFile(wn11NewTriple)\n",
    "\n",
    "    \n",
    "    \n",
    "    FB13 = HandleFile('./FB13/'+filename,'./FB13/'+Newfilename)\n",
    "    fb13PosTriple,fb13NegTriple = FB13.Read()\n",
    "    fb13NewTriple = FB13.ReduceUpdate(fb13PosTriple,fb13NegTriple,num)\n",
    "    FB13.WriteFile(fb13NewTriple)\n",
    "\n",
    "    FB15k = HandleFile('./FB15k/'+filename,'./FB15k/'+Newfilename,)\n",
    "    fb15kPosTriple,fb15kNegTriple = FB15k.Read()\n",
    "    fb15kNewTriple = FB15k.ReduceUpdate(fb15kPosTriple,fb15kNegTriple,num)\n",
    "    FB15k.WriteFile(fb15kNewTriple)"
   ]
  },
  {
   "cell_type": "code",
   "execution_count": 42,
   "metadata": {
    "collapsed": false
   },
   "outputs": [
    {
     "name": "stdout",
     "output_type": "stream",
     "text": [
      "5000\n",
      "10\n",
      "90\n",
      "14810\n",
      "10\n",
      "90\n",
      "19345\n",
      "10\n",
      "90\n",
      "50000\n",
      "10\n",
      "90\n"
     ]
    }
   ],
   "source": [
    "if __name__ == '__main__':\n",
    "    init()"
   ]
  },
  {
   "cell_type": "code",
   "execution_count": null,
   "metadata": {
    "collapsed": true
   },
   "outputs": [],
   "source": []
  }
 ],
 "metadata": {
  "anaconda-cloud": {},
  "kernelspec": {
   "display_name": "Python [conda env:python3]",
   "language": "python",
   "name": "conda-env-python3-py"
  },
  "language_info": {
   "codemirror_mode": {
    "name": "ipython",
    "version": 3
   },
   "file_extension": ".py",
   "mimetype": "text/x-python",
   "name": "python",
   "nbconvert_exporter": "python",
   "pygments_lexer": "ipython3",
   "version": "3.5.4"
  }
 },
 "nbformat": 4,
 "nbformat_minor": 1
}
