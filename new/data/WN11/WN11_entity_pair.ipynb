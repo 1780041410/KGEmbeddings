{
 "cells": [
  {
   "cell_type": "code",
   "execution_count": 1,
   "metadata": {
    "collapsed": true
   },
   "outputs": [],
   "source": [
    "import sys\n",
    "import os\n",
    "from collections import defaultdict"
   ]
  },
  {
   "cell_type": "code",
   "execution_count": 2,
   "metadata": {
    "collapsed": true
   },
   "outputs": [],
   "source": [
    "class Read(object):\n",
    "    def __init__(self,entity2id,update,train,entity_pair):\n",
    "        self.entity2id = entity2id\n",
    "        self.update = update\n",
    "        self.train = train\n",
    "        self.entity_pair = entity_pair\n",
    "        \n",
    "        \n",
    "    def read(self):\n",
    "        file = open(self.entity2id,'r')\n",
    "        ent2id = defaultdict()\n",
    "        id2ent = defaultdict()\n",
    "        for item in file:\n",
    "            item = item.strip().split('\\t')\n",
    "            ent2id[item[0]] = item[1]\n",
    "            id2ent[item[1]] = item[0]\n",
    "         \n",
    "        file.close()\n",
    "        \n",
    "        file = open(self.update,'r')\n",
    "        updateTriple = []\n",
    "        for item in file:\n",
    "            item = item.strip().split('\\t')\n",
    "            updateTriple.append(item)\n",
    "            \n",
    "        file.close()\n",
    "        \n",
    "        \n",
    "        file = open(self.train,'r')\n",
    "        trainTriple = []\n",
    "        for item in file:\n",
    "            item = item.strip().split('\\t')\n",
    "            trainTriple.append(item)\n",
    "            \n",
    "        file.close()\n",
    "        \n",
    "        entityRelated = defaultdict(set)  \n",
    "        for item in updateTriple:\n",
    "            entityRelated[item[0]].add(item[2])\n",
    "            entityRelated[item[2]].add(item[0])\n",
    "        for item in trainTriple:\n",
    "            entityRelated[item[0]].add(item[2])\n",
    "            entityRelated[item[2]].add(item[0])\n",
    "            \n",
    "    \n",
    "        file = open(self.entity_pair,'w')\n",
    "        for k in entityRelated:\n",
    "            num = len(list(k))\n",
    "            file.write(k+'\\t'+str(num)+'\\n')\n",
    "           "
   ]
  },
  {
   "cell_type": "code",
   "execution_count": 3,
   "metadata": {
    "collapsed": true
   },
   "outputs": [],
   "source": [
    "def init():\n",
    "    entity2id = 'entity2id.txt'\n",
    "    train = 'train.txt'\n",
    "    update = 'update.txt'\n",
    "    entity_pair = 'entity_pair.txt'\n",
    "    \n",
    "    WN11 = Read(entity2id,train,update,entity_pair)\n",
    "    WN11.read()"
   ]
  },
  {
   "cell_type": "code",
   "execution_count": 4,
   "metadata": {
    "collapsed": true
   },
   "outputs": [],
   "source": [
    "if __name__ == '__main__':\n",
    "    init()"
   ]
  },
  {
   "cell_type": "code",
   "execution_count": null,
   "metadata": {
    "collapsed": true
   },
   "outputs": [],
   "source": []
  }
 ],
 "metadata": {
  "anaconda-cloud": {},
  "kernelspec": {
   "display_name": "Python [conda env:python3]",
   "language": "python",
   "name": "conda-env-python3-py"
  },
  "language_info": {
   "codemirror_mode": {
    "name": "ipython",
    "version": 3
   },
   "file_extension": ".py",
   "mimetype": "text/x-python",
   "name": "python",
   "nbconvert_exporter": "python",
   "pygments_lexer": "ipython3",
   "version": "3.5.4"
  }
 },
 "nbformat": 4,
 "nbformat_minor": 1
}
