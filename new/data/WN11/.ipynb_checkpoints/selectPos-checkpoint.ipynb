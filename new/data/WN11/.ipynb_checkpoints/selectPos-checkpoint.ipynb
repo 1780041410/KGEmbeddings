{
 "cells": [
  {
   "cell_type": "code",
   "execution_count": 4,
   "metadata": {
    "collapsed": true
   },
   "outputs": [],
   "source": [
    "import os\n",
    "import sys\n",
    "from collections import defaultdict\n",
    "import numpy as np"
   ]
  },
  {
   "cell_type": "code",
   "execution_count": 16,
   "metadata": {
    "collapsed": false
   },
   "outputs": [],
   "source": [
    "class Read(object):\n",
    "    def  __init__(self,trainfile,testfile,newfile):\n",
    "        self.trainfile = trainfile\n",
    "        self.testfile = testfile\n",
    "        self.newfile = newfile\n",
    "        \n",
    "    def readFile(self):\n",
    "        filetrain = open(self.trainfile,'r')\n",
    "        filetest = open(self.testfile,'r')\n",
    "        Triple = []\n",
    "        entity = set()\n",
    "        for item in filetrain:\n",
    "            item = item.strip().split('\\t')\n",
    "            Triple.append(item)\n",
    "            \n",
    "        for item in filetest:\n",
    "            item = item.strip().split('\\t')\n",
    "            entity.add(item[0])\n",
    "            entity.add(item[2])\n",
    "            \n",
    "        entity = list(entity)\n",
    "        filetrain.close()\n",
    "        filetest.close()\n",
    "        \n",
    "        return Triple,entity\n",
    "    \n",
    "    def getPos(self,Triple,entity):\n",
    "        self.Triple = Triple\n",
    "        self.entity = entity\n",
    "        \n",
    "        trainPos = []\n",
    "        \n",
    "        for item in entity:\n",
    "            k = [];\n",
    "            for triple in Triple:\n",
    "                if(item in triple):\n",
    "                    k.append(triple)\n",
    "            if(len(k) >= 3):    \n",
    "                i = int (np.random.randint(0,len(k),1))\n",
    "                trainPos.append(k[i])\n",
    "        \n",
    "        return trainPos\n",
    "            \n",
    "        \n",
    "    def writeFile(self,trainPos):\n",
    "        \n",
    "        file = open(self.newfile,'w')\n",
    "        for item in trainPos:\n",
    "            file.write(item[0]+'\\t'+item[1]+'\\t'+item[2]+'\\t'+item[3]+'\\n')\n",
    "        \n",
    "        file.close()\n",
    "\n",
    "        "
   ]
  },
  {
   "cell_type": "code",
   "execution_count": 17,
   "metadata": {
    "collapsed": true
   },
   "outputs": [],
   "source": [
    "def init():\n",
    "    testfile = 'test.txt'\n",
    "    trainfile = 'train.txt'\n",
    "    newfile = 'newPos.txt'\n",
    "    \n",
    "    path11 = '../WN11/'\n",
    "    path13 = '../FB13/'\n",
    "    \n",
    "    WN11 = Read(path11+trainfile,path11+testfile,path11+newfile)\n",
    "    FB13 = Read(path13+trainfile,path13+testfile,path13+newfile)\n",
    "    \n",
    "    WN11Triple,WN11entity = WN11.readFile()\n",
    "    FB13Triple,FB13entity = FB13.readFile()\n",
    "    \n",
    "    WN11TrainPos = WN11.getPos(WN11Triple,WN11entity)\n",
    "    FB13TrainPos = FB13.getPos(FB13Triple,FB13entity)\n",
    "    \n",
    "    WN11.writeFile(WN11TrainPos)\n",
    "    FB13.writeFile(FB13TrainPos)\n",
    "    \n",
    "    "
   ]
  },
  {
   "cell_type": "code",
   "execution_count": 18,
   "metadata": {
    "collapsed": false
   },
   "outputs": [],
   "source": [
    "if __name__ == '__main__':\n",
    "    init()"
   ]
  },
  {
   "cell_type": "code",
   "execution_count": 19,
   "metadata": {
    "collapsed": true
   },
   "outputs": [],
   "source": []
  },
  {
   "cell_type": "code",
   "execution_count": null,
   "metadata": {
    "collapsed": false
   },
   "outputs": [],
   "source": []
  },
  {
   "cell_type": "code",
   "execution_count": null,
   "metadata": {
    "collapsed": false
   },
   "outputs": [],
   "source": []
  },
  {
   "cell_type": "code",
   "execution_count": null,
   "metadata": {
    "collapsed": true
   },
   "outputs": [],
   "source": []
  }
 ],
 "metadata": {
  "anaconda-cloud": {},
  "kernelspec": {
   "display_name": "Python [conda env:python3]",
   "language": "python",
   "name": "conda-env-python3-py"
  },
  "language_info": {
   "codemirror_mode": {
    "name": "ipython",
    "version": 3
   },
   "file_extension": ".py",
   "mimetype": "text/x-python",
   "name": "python",
   "nbconvert_exporter": "python",
   "pygments_lexer": "ipython3",
   "version": "3.5.4"
  }
 },
 "nbformat": 4,
 "nbformat_minor": 1
}
