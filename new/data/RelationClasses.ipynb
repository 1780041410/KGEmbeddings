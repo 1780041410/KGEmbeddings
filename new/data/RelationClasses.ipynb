{
 "cells": [
  {
   "cell_type": "code",
   "execution_count": 3,
   "metadata": {
    "collapsed": true
   },
   "outputs": [],
   "source": [
    "import os\n",
    "import numpy as np\n",
    "import sys\n",
    "from collections import defaultdict"
   ]
  },
  {
   "cell_type": "code",
   "execution_count": 53,
   "metadata": {
    "collapsed": false
   },
   "outputs": [],
   "source": [
    "class HandleFile(object):\n",
    "    def __init__(self,filename,Newfilename):\n",
    "        self.file = filename\n",
    "        self.Newfile = Newfilename\n",
    "    def Read(self):\n",
    "        file = open(self.file,'r')\n",
    "        \n",
    "        hr = defaultdict(set)\n",
    "        tr = defaultdict(set)\n",
    "        relation = set()\n",
    "        for item in file:\n",
    "            item = item.strip().split('\\t')\n",
    "            hr[item[1]].add(item[2])\n",
    "            tr[item[1]].add(item[0])\n",
    "            relation.add(item[1])\n",
    "                \n",
    "\n",
    "        file.close()\n",
    "        \n",
    "        self.hr = hr\n",
    "        self.tr = tr\n",
    "        self.relation = relation\n",
    "        \n",
    "        \n",
    "    \n",
    "    def WriteFile(self):\n",
    "        file = open(self.Newfile,'w')\n",
    "        \n",
    "        relationClass = defaultdict()\n",
    "        \n",
    "        for item in self.relation:\n",
    "            h = len(self.hr[item])\n",
    "            t = len(self.tr[item])\n",
    "            hpt = h*1.0 / t\n",
    "            tph = t*1.0 / h\n",
    "            \n",
    "            if( hpt < 1.5 ) and (tph < 1.5): # 1-to-1\n",
    "                relationClass[item] = 1\n",
    "            elif (hpt >= 1.5) and (tph >= 1.5): # m-to-m\n",
    "                relationClass[item] = 2\n",
    "            elif (hpt < 1.5) and (tph >= 1.5): # 1-to-m\n",
    "                relationClass[item] = 3\n",
    "            elif( hpt >= 1.5) and (tph < 1.5):                             # m-to-1\n",
    "                relationClass[item] = 4 \n",
    "         \n",
    "        for k,v in relationClass.items():\n",
    "            file.write(k+'\\t'+str(v)+'\\n')\n",
    "    \n",
    "        file.close()"
   ]
  },
  {
   "cell_type": "code",
   "execution_count": 54,
   "metadata": {
    "collapsed": false
   },
   "outputs": [],
   "source": [
    "def init():\n",
    "    #filename = str(sys.argv[1])\n",
    "    #Newfilename = str(sys.argv[2])\n",
    "    #num = str(sys.argv[3])\n",
    "    #num = int(num)\n",
    "    filename = 'train.txt'\n",
    "    Newfilename = 'relationClass.txt'\n",
    "\n",
    "    WN18 = HandleFile(str('./WN18/'+filename),str('./WN18/'+Newfilename))\n",
    "   \n",
    "    WN18.Read()\n",
    "\n",
    "    WN18.WriteFile()\n",
    "\n",
    "    WN11 = HandleFile('./WN11/'+filename,'./WN11/'+Newfilename)\n",
    "    WN11.Read()\n",
    "    WN11.WriteFile()\n",
    "\n",
    "    \n",
    "    \n",
    "    FB13 = HandleFile('./FB13/'+filename,'./FB13/'+Newfilename)\n",
    "    FB13.Read()\n",
    "    FB13.WriteFile()\n",
    "\n",
    "    FB15k = HandleFile('./FB15k/'+filename,'./FB15k/'+Newfilename,)\n",
    "    FB15k.Read()\n",
    "    \n",
    "    FB15k.WriteFile()"
   ]
  },
  {
   "cell_type": "code",
   "execution_count": 55,
   "metadata": {
    "collapsed": false
   },
   "outputs": [],
   "source": [
    "if __name__ == '__main__':\n",
    "    init()"
   ]
  },
  {
   "cell_type": "code",
   "execution_count": null,
   "metadata": {
    "collapsed": true
   },
   "outputs": [],
   "source": []
  }
 ],
 "metadata": {
  "anaconda-cloud": {},
  "kernelspec": {
   "display_name": "Python [conda env:python3]",
   "language": "python",
   "name": "conda-env-python3-py"
  },
  "language_info": {
   "codemirror_mode": {
    "name": "ipython",
    "version": 3
   },
   "file_extension": ".py",
   "mimetype": "text/x-python",
   "name": "python",
   "nbconvert_exporter": "python",
   "pygments_lexer": "ipython3",
   "version": "3.5.4"
  }
 },
 "nbformat": 4,
 "nbformat_minor": 1
}
